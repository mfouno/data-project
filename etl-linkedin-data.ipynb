{
 "cells": [
  {
   "cell_type": "code",
   "execution_count": null,
   "metadata": {},
   "outputs": [],
   "source": [
    "import pandas as pd\n",
    "import json"
   ]
  },
  {
   "cell_type": "markdown",
   "metadata": {},
   "source": [
    "# Extract"
   ]
  },
  {
   "cell_type": "code",
   "execution_count": null,
   "metadata": {},
   "outputs": [],
   "source": [
    "# Read json file (inbox.json) and convert it into dataframe\n",
    "with open('inbox.json', 'r') as file:\n",
    "    data = json.load(file)\n",
    "\n",
    "df_inbox = pd.DataFrame([item for element in data['elements'] for item in element['snapshotData']])"
   ]
  },
  {
   "cell_type": "code",
   "execution_count": null,
   "metadata": {},
   "outputs": [],
   "source": [
    "# Read json file (invitations.json) and convert it into dataframe\n",
    "with open('invitations.json', 'r') as file:\n",
    "    data = json.load(file)\n",
    "\n",
    "df_invitations = pd.DataFrame([item for element in data['elements'] for item in element['snapshotData']])"
   ]
  },
  {
   "cell_type": "code",
   "execution_count": null,
   "metadata": {},
   "outputs": [],
   "source": [
    "# Read json file (all_likes.json) and convert it into dataframe\n",
    "with open('all_likes.json', 'r') as file:\n",
    "    data = json.load(file)\n",
    "\n",
    "df_all_likes = pd.DataFrame([item for element in data['elements'] for item in element['snapshotData']])"
   ]
  },
  {
   "cell_type": "markdown",
   "metadata": {},
   "source": [
    "# Transform"
   ]
  },
  {
   "cell_type": "markdown",
   "metadata": {},
   "source": [
    "##### a. Inbox data"
   ]
  },
  {
   "cell_type": "code",
   "execution_count": null,
   "metadata": {},
   "outputs": [],
   "source": [
    "# Rename columns\n",
    "rename_dict_inbox = {\n",
    "    \"DATE\": \"date_utc\",\n",
    "    \"TO\": \"recipient_name\",\n",
    "    \"FROM\": \"sender_name\",\n",
    "    \"CONTENT\": \"message_content\",\n",
    "    \"SUBJECT\": \"email_subject\",\n",
    "    \"CONVERSATION ID\": \"conversation_id\",\n",
    "    \"RECIPIENT PROFILE URLS\": \"recipient_profile_url\",\n",
    "    \"SENDER PROFILE URL\": \"sender_profile_url\",\n",
    "    \"CONVERSATION TITLE\": \"conversation_title\",\n",
    "    \"FOLDER\": \"folder\"\n",
    "}\n",
    "\n",
    "df_inbox.rename(columns=rename_dict_inbox, inplace=True)"
   ]
  },
  {
   "cell_type": "code",
   "execution_count": null,
   "metadata": {},
   "outputs": [],
   "source": [
    "# Convert 'date_utc' column to datetime\n",
    "df_inbox['date_utc'] = pd.to_datetime(df_inbox['date_utc'], utc=True)\n",
    "\n",
    "# Convert from UTC to Paris time zone\n",
    "df_inbox['datetime_paris'] = df_inbox['date_utc'].dt.tz_convert('Europe/Paris')\n",
    "\n",
    "# Extract date and hour\n",
    "df_inbox['date_paris'] = df_inbox['datetime_paris'].dt.date\n",
    "df_inbox['hour_paris'] = df_inbox['datetime_paris'].dt.hour\n",
    "\n",
    "# Drop 'date_utc' column\n",
    "df_inbox.drop(columns=['date_utc'], inplace=True)"
   ]
  },
  {
   "cell_type": "markdown",
   "metadata": {},
   "source": [
    "##### b. Invitations data"
   ]
  },
  {
   "cell_type": "code",
   "execution_count": null,
   "metadata": {},
   "outputs": [],
   "source": [
    "# Rename columns\n",
    "rename_dict_invitations = {\n",
    "    \"Message\": \"message\",\n",
    "    \"inviterProfileUrl\": \"inviter_profile_url\",\n",
    "    \"Sent At\": \"sent_at\",\n",
    "    \"To\": \"invitee\",\n",
    "    \"From\": \"inviter\",\n",
    "    \"Direction\": \"direction\",\n",
    "    \"inviteeProfileUrl\": \"invitee_profile_url\"\n",
    "}\n",
    "\n",
    "df_invitations.rename(columns=rename_dict_invitations, inplace=True)"
   ]
  },
  {
   "cell_type": "code",
   "execution_count": null,
   "metadata": {},
   "outputs": [],
   "source": [
    "# Convert 'date' column to datetime, assuming it is in UTC\n",
    "df_invitations['sent_at'] = pd.to_datetime(df_invitations['sent_at'], format='%m/%d/%y, %I:%M %p', errors='coerce').dt.tz_localize('UTC')\n",
    "\n",
    "# Convert from UTC to Paris time zone\n",
    "df_invitations['sent_at'] = df_invitations['sent_at'].dt.tz_convert('Europe/Paris')\n",
    "\n",
    "# Extract hour\n",
    "df_invitations['sent_at_hour'] = df_invitations['sent_at'].dt.hour"
   ]
  },
  {
   "cell_type": "markdown",
   "metadata": {},
   "source": [
    "##### c. Likes data"
   ]
  },
  {
   "cell_type": "code",
   "execution_count": null,
   "metadata": {},
   "outputs": [],
   "source": [
    "# Rename columns\n",
    "rename_dict_likes = {\n",
    "    \"Link\": \"link\",\n",
    "    \"Date\": \"date\",\n",
    "    \"Type\": \"type\"\n",
    "}\n",
    "\n",
    "df_all_likes.rename(columns=rename_dict_likes, inplace=True)"
   ]
  },
  {
   "cell_type": "code",
   "execution_count": null,
   "metadata": {},
   "outputs": [],
   "source": [
    "# Convert 'date' column to datetime, assuming it is in UTC\n",
    "df_all_likes['date'] = pd.to_datetime(df_all_likes['date']).dt.tz_localize('UTC')\n",
    "\n",
    "# Convert from UTC to Paris time zone\n",
    "df_all_likes['date'] = df_all_likes['date'].dt.tz_convert('Europe/Paris')\n",
    "\n",
    "# Extract hour\n",
    "df_all_likes['date_hour'] = df_all_likes['date'].dt.hour"
   ]
  },
  {
   "cell_type": "markdown",
   "metadata": {},
   "source": [
    "# Load"
   ]
  },
  {
   "cell_type": "code",
   "execution_count": null,
   "metadata": {},
   "outputs": [],
   "source": [
    "#Load env. secret\n",
    "import os \n",
    "from dotenv import load_dotenv\n",
    "load_dotenv(os.path.join(\"secrets.local\", \".secrets\"))\n",
    "\n",
    "PWD_MYSQL: str = os.getenv(key=\"PWD_MYSQL\")"
   ]
  },
  {
   "cell_type": "markdown",
   "metadata": {},
   "source": [
    "1) Connection test to MySQL server"
   ]
  },
  {
   "cell_type": "code",
   "execution_count": null,
   "metadata": {},
   "outputs": [],
   "source": [
    "from mysql import connector"
   ]
  },
  {
   "cell_type": "code",
   "execution_count": null,
   "metadata": {},
   "outputs": [],
   "source": [
    "try:\n",
    "    with connector.connect(\n",
    "        host = \"localhost\",\n",
    "        user = \"root\",\n",
    "        password = PWD_MYSQL\n",
    "    ) as database: \n",
    "        print(f\"Database object: {database}\")\n",
    "except connector.Error as e: \n",
    "    print(e)"
   ]
  },
  {
   "cell_type": "markdown",
   "metadata": {},
   "source": [
    "2) Creating a new database"
   ]
  },
  {
   "cell_type": "code",
   "execution_count": null,
   "metadata": {},
   "outputs": [],
   "source": [
    "try: \n",
    "    # Connect to server\n",
    "    with connector.connect(\n",
    "        host = \"localhost\",\n",
    "        user = \"root\",\n",
    "        password = PWD_MYSQL\n",
    "    ) as database: \n",
    "        \n",
    "        # Create a database\n",
    "        delete_db = \"DROP DATABASE linkedin_data\"\n",
    "        create_db = \"CREATE DATABASE linkedin_data\"\n",
    "        with database.cursor() as cursor: \n",
    "            cursor.execute(delete_db) \n",
    "            cursor.execute(create_db)\n",
    "\n",
    "            # Display existing databases\n",
    "            show_existing_db = \"SHOW DATABASES\"\n",
    "            cursor.execute(show_existing_db)\n",
    "            for db in cursor:\n",
    "                print(db)\n",
    "# Catch errors\n",
    "except connector.Error as e:\n",
    "    print(e)"
   ]
  },
  {
   "cell_type": "markdown",
   "metadata": {},
   "source": [
    "3) Creating tables"
   ]
  },
  {
   "cell_type": "code",
   "execution_count": null,
   "metadata": {},
   "outputs": [],
   "source": [
    "# ALL LIKES\n",
    "create_all_likes_table = \"\"\"\n",
    "CREATE TABLE all_likes(\n",
    "    link VARCHAR(255) PRIMARY KEY,\n",
    "    date DATE,\n",
    "    type VARCHAR(255),\n",
    "    date_hour INT\n",
    ")\n",
    "\"\"\"\n",
    "\n",
    "try: \n",
    "    # Connect to existing database\n",
    "    with connector.connect(\n",
    "        host = \"localhost\",\n",
    "        user = \"root\",\n",
    "        password = PWD_MYSQL,\n",
    "        database = \"linkedin_data\"\n",
    "    ) as existing_database:\n",
    "        \n",
    "        # Create cursor object\n",
    "        with existing_database.cursor() as cursor: \n",
    "            cursor.execute(create_all_likes_table)\n",
    "            existing_database.commit()\n",
    "        \n",
    "            # Display the table schema \n",
    "            describe_likes = \"DESCRIBE all_likes\"\n",
    "            cursor.execute(describe_likes)\n",
    "            likes_schema = cursor.fetchall() \n",
    "            for column in likes_schema: \n",
    "                print(column)\n",
    "\n",
    "except connector.Error as e: \n",
    "    print(e)"
   ]
  },
  {
   "cell_type": "code",
   "execution_count": null,
   "metadata": {},
   "outputs": [],
   "source": [
    "# INBOX\n",
    "create_inbox_table = \"\"\"\n",
    "CREATE TABLE inbox(\n",
    "    conversation_id VARCHAR(255),\n",
    "    recipient_profile_url VARCHAR(255),\n",
    "    sender_profile_url VARCHAR(255),\n",
    "    email_subject VARCHAR(255),\n",
    "    recipient_name VARCHAR(255),\n",
    "    message_content TEXT,\n",
    "    sender_name VARCHAR(255),\n",
    "    conversation_title VARCHAR(255),\n",
    "    folder VARCHAR(255),\n",
    "    datetime_paris DATETIME,\n",
    "    date_paris DATE,\n",
    "    hour_paris INT\n",
    ")\n",
    "\"\"\"\n",
    "\n",
    "try: \n",
    "    # Connect to existing database\n",
    "    with connector.connect(\n",
    "        host = \"localhost\",\n",
    "        user = \"root\",\n",
    "        password = PWD_MYSQL,\n",
    "        database = \"linkedin_data\"\n",
    "    ) as existing_database:\n",
    "        \n",
    "        # Create cursor object\n",
    "        with existing_database.cursor() as cursor: \n",
    "            cursor.execute(create_inbox_table)\n",
    "            existing_database.commit()\n",
    "        \n",
    "            # Display the table schema \n",
    "            describe_inbox = \"DESCRIBE inbox\"\n",
    "            cursor.execute(describe_inbox)\n",
    "            inbox_schema = cursor.fetchall() \n",
    "            for column in inbox_schema: \n",
    "                print(column)\n",
    "\n",
    "except connector.Error as e: \n",
    "    print(e)"
   ]
  },
  {
   "cell_type": "code",
   "execution_count": null,
   "metadata": {},
   "outputs": [],
   "source": [
    "# INVITATIONS\n",
    "create_invitations_table = \"\"\"\n",
    "CREATE TABLE invitations(\n",
    "    message TEXT,\n",
    "    inviter_profile_url VARCHAR(255),\n",
    "    sent_at DATETIME,\n",
    "    invitee VARCHAR(255),\n",
    "    inviter VARCHAR(255),\n",
    "    direction VARCHAR(255),\n",
    "    invitee_profile_url VARCHAR(255),\n",
    "    sent_at_hour INT\n",
    ")\n",
    "\"\"\"\n",
    "\n",
    "try: \n",
    "    # Connect to existing database\n",
    "    with connector.connect(\n",
    "        host = \"localhost\",\n",
    "        user = \"root\",\n",
    "        password = PWD_MYSQL,\n",
    "        database = \"linkedin_data\"\n",
    "    ) as existing_database:\n",
    "        \n",
    "        # Create cursor object\n",
    "        with existing_database.cursor() as cursor: \n",
    "            cursor.execute(create_invitations_table)\n",
    "            existing_database.commit()\n",
    "        \n",
    "            # Display the table schema \n",
    "            describe_inv = \"DESCRIBE invitations\"\n",
    "            cursor.execute(describe_inv)\n",
    "            inv_schema = cursor.fetchall() \n",
    "            for column in inv_schema: \n",
    "                print(column)\n",
    "\n",
    "except connector.Error as e: \n",
    "    print(e)"
   ]
  },
  {
   "cell_type": "markdown",
   "metadata": {},
   "source": [
    "4) Insert data"
   ]
  },
  {
   "cell_type": "code",
   "execution_count": null,
   "metadata": {},
   "outputs": [],
   "source": [
    "# Construct insert statement for the ALL_LIKES data\n",
    "insert_statement = f\"INSERT INTO all_likes (link, date, type, date_hour) VALUES (%s, %s, %s, %s)\"\n",
    "\n",
    "# Insert data row by row\n",
    "try: \n",
    "    # Connect to existing database\n",
    "    with connector.connect(\n",
    "        host = \"localhost\",\n",
    "        user = \"root\",\n",
    "        password = PWD_MYSQL,\n",
    "        database = \"linkedin_data\"\n",
    "    ) as existing_database:\n",
    "        \n",
    "        # Create cursor object\n",
    "        with existing_database.cursor() as cursor:\n",
    "            for _, row in df_all_likes.iterrows():\n",
    "                cursor.execute(insert_statement, tuple(row))\n",
    "            existing_database.commit()\n",
    "        \n",
    "except connector.Error as e: \n",
    "    print(e)"
   ]
  },
  {
   "cell_type": "code",
   "execution_count": null,
   "metadata": {},
   "outputs": [],
   "source": [
    "# Construct insert statement for the INBOX data\n",
    "insert_statement = f\"INSERT INTO inbox (conversation_id, recipient_profile_url, sender_profile_url, email_subject, recipient_name, message_content, sender_name, conversation_title, folder, datetime_paris, date_paris, hour_paris) VALUES (%s, %s, %s, %s, %s, %s, %s, %s, %s, %s, %s, %s)\"\n",
    "\n",
    "# Insert data row by row\n",
    "try: \n",
    "    # Connect to existing database\n",
    "    with connector.connect(\n",
    "        host = \"localhost\",\n",
    "        user = \"root\",\n",
    "        password = PWD_MYSQL,\n",
    "        database = \"linkedin_data\"\n",
    "    ) as existing_database:\n",
    "        \n",
    "        # Create cursor object\n",
    "        with existing_database.cursor() as cursor:\n",
    "            for _, row in df_inbox.iterrows():\n",
    "                cursor.execute(insert_statement, tuple(row))\n",
    "            existing_database.commit()\n",
    "        \n",
    "except connector.Error as e: \n",
    "    print(e)"
   ]
  },
  {
   "cell_type": "code",
   "execution_count": null,
   "metadata": {},
   "outputs": [],
   "source": [
    "# Construct insert statement for the INVITATIONS data\n",
    "insert_statement = f\"INSERT INTO invitations (message, inviter_profile_url, sent_at, invitee, inviter, direction, invitee_profile_url, sent_at_hour) VALUES (%s, %s, %s, %s, %s, %s, %s, %s)\"\n",
    "\n",
    "# Insert data row by row\n",
    "try: \n",
    "    # Connect to existing database\n",
    "    with connector.connect(\n",
    "        host = \"localhost\",\n",
    "        user = \"root\",\n",
    "        password = PWD_MYSQL,\n",
    "        database = \"linkedin_data\"\n",
    "    ) as existing_database:\n",
    "        \n",
    "        # Create cursor object\n",
    "        with existing_database.cursor() as cursor:\n",
    "            for _, row in df_invitations.iterrows():\n",
    "                cursor.execute(insert_statement, tuple(row))\n",
    "            existing_database.commit()\n",
    "        \n",
    "except connector.Error as e: \n",
    "    print(e)"
   ]
  }
 ],
 "metadata": {
  "kernelspec": {
   "display_name": ".venv",
   "language": "python",
   "name": "python3"
  },
  "language_info": {
   "codemirror_mode": {
    "name": "ipython",
    "version": 3
   },
   "file_extension": ".py",
   "mimetype": "text/x-python",
   "name": "python",
   "nbconvert_exporter": "python",
   "pygments_lexer": "ipython3",
   "version": "3.9.6"
  }
 },
 "nbformat": 4,
 "nbformat_minor": 2
}
