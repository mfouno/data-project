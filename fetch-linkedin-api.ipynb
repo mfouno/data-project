{
 "cells": [
  {
   "cell_type": "code",
   "execution_count": 24,
   "metadata": {},
   "outputs": [],
   "source": [
    "#Load env. secret\n",
    "import os \n",
    "from dotenv import load_dotenv\n",
    "load_dotenv(os.path.join(\"secrets.local\", \".secrets\"))\n",
    "\n",
    "ACCESS_TOKEN: str = os.getenv(key=\"ACCESS_TOKEN_LINKEDIN_API\")"
   ]
  },
  {
   "cell_type": "code",
   "execution_count": null,
   "metadata": {},
   "outputs": [],
   "source": [
    "import json\n",
    "import requests\n",
    "\n",
    "# List of useful domains for analysis\n",
    "domains_useful = ['ALL_LIKES', 'INBOX', 'INVITATIONS']\n",
    "\n",
    "# Headers for request\n",
    "headers = {\n",
    "    'Authorization': f'Bearer {ACCESS_TOKEN}',\n",
    "    'Content-Type': 'application/json',\n",
    "    'LinkedIn-Version': '202312'\n",
    "}\n",
    "\n",
    "# URL for request\n",
    "url = \"https://api.linkedin.com/rest/memberSnapshotData?q=criteria\"\n",
    "\n",
    "# API request\n",
    "for domain in domains_useful:\n",
    "\n",
    "    # Parameters\n",
    "    params = {\n",
    "        'domain': domain,\n",
    "        'start': \"0\"\n",
    "    }\n",
    "\n",
    "    response = requests.get(url, headers=headers, params=params)\n",
    "\n",
    "    if response.status_code == 200:\n",
    "        data = response.json()\n",
    "        filename = f\"{domain.lower()}.json\"\n",
    "        with open(filename, 'w') as f:\n",
    "            json.dump(data, f, indent=4)\n",
    "        print(f\"Les données pour {domain} ont été enregistrées dans '{filename}'.\")\n",
    "    else:\n",
    "        print(f\"Erreur lors de la requête : {response.status_code} {response.text}\")\n"
   ]
  }
 ],
 "metadata": {
  "kernelspec": {
   "display_name": ".venv",
   "language": "python",
   "name": "python3"
  },
  "language_info": {
   "codemirror_mode": {
    "name": "ipython",
    "version": 3
   },
   "file_extension": ".py",
   "mimetype": "text/x-python",
   "name": "python",
   "nbconvert_exporter": "python",
   "pygments_lexer": "ipython3",
   "version": "3.9.6"
  }
 },
 "nbformat": 4,
 "nbformat_minor": 2
}
