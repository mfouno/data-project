{
 "cells": [
  {
   "cell_type": "code",
   "execution_count": null,
   "metadata": {},
   "outputs": [],
   "source": [
    "#Load env. secret\n",
    "import os \n",
    "from dotenv import load_dotenv\n",
    "load_dotenv(os.path.join(\"secrets.local\", \".secrets\"))\n",
    "\n",
    "PWD_MYSQL: str = os.getenv(key=\"PWD_MYSQL\")"
   ]
  },
  {
   "cell_type": "markdown",
   "metadata": {},
   "source": [
    "# Querying DB"
   ]
  },
  {
   "cell_type": "code",
   "execution_count": null,
   "metadata": {},
   "outputs": [],
   "source": [
    "from mysql import connector"
   ]
  },
  {
   "cell_type": "code",
   "execution_count": null,
   "metadata": {},
   "outputs": [],
   "source": [
    "# Establish a connection to the database\n",
    "cnx = connector.connect(host = \"localhost\",\n",
    "        user = \"root\",\n",
    "        password = PWD_MYSQL,\n",
    "        database = \"linkedin_data\")\n",
    "cursor = cnx.cursor()"
   ]
  },
  {
   "cell_type": "code",
   "execution_count": null,
   "metadata": {},
   "outputs": [],
   "source": [
    "#INVITATIONS\n",
    "\n",
    "# Query the data from the invitations table\n",
    "query = \"\"\"SELECT *\n",
    "        FROM invitations\"\"\"\n",
    "cursor.execute(query)\n",
    "\n",
    "# Fetch the results and load into a DataFrame\n",
    "df_invitations = pd.DataFrame(cursor.fetchall(), columns=[desc[0] for desc in cursor.description])"
   ]
  },
  {
   "cell_type": "code",
   "execution_count": null,
   "metadata": {},
   "outputs": [],
   "source": [
    "#INBOX\n",
    "\n",
    "# Query the data from the inbox table\n",
    "query = \"\"\"SELECT *\n",
    "        FROM inbox\"\"\"\n",
    "cursor.execute(query)\n",
    "\n",
    "# Fetch the results and load into a DataFrame\n",
    "df_inbox = pd.DataFrame(cursor.fetchall(), columns=[desc[0] for desc in cursor.description])"
   ]
  },
  {
   "cell_type": "code",
   "execution_count": null,
   "metadata": {},
   "outputs": [],
   "source": [
    "#ALL_LIKES\n",
    "\n",
    "# Query the data from the all_likes table\n",
    "query = \"\"\"SELECT *\n",
    "        FROM all_likes\"\"\"\n",
    "cursor.execute(query)\n",
    "\n",
    "# Fetch the results and load into a DataFrame\n",
    "df_all_likes = pd.DataFrame(cursor.fetchall(), columns=[desc[0] for desc in cursor.description])"
   ]
  },
  {
   "cell_type": "code",
   "execution_count": null,
   "metadata": {},
   "outputs": [],
   "source": [
    "# Close the cursor and connection\n",
    "cursor.close()\n",
    "cnx.close()"
   ]
  },
  {
   "cell_type": "markdown",
   "metadata": {},
   "source": [
    "# Data Viz"
   ]
  },
  {
   "cell_type": "code",
   "execution_count": null,
   "metadata": {},
   "outputs": [],
   "source": [
    "import pandas as pd\n",
    "import numpy as np\n",
    "import matplotlib.pyplot as plt\n",
    "from matplotlib.ticker import MultipleLocator\n",
    "import seaborn as sns"
   ]
  },
  {
   "cell_type": "markdown",
   "metadata": {},
   "source": [
    "#### Inbox"
   ]
  },
  {
   "cell_type": "code",
   "execution_count": null,
   "metadata": {},
   "outputs": [],
   "source": [
    "# Week/month conversation start date\n",
    "df_inbox['date_week'] = df_inbox['datetime_paris'].dt.to_period('W').apply(lambda x: x.start_time)\n",
    "df_inbox['date_month'] = df_inbox['datetime_paris'].dt.to_period('M').apply(lambda x: x.start_time)\n",
    "\n",
    "# Column day of week\n",
    "df_inbox['day_of_week'] = df_inbox['datetime_paris'].dt.day_name()\n",
    "\n",
    "# Row number to detect the start date of the conversation\n",
    "df_inbox = df_inbox.sort_values(by=['conversation_id', 'datetime_paris'])\n",
    "df_inbox['row_number'] = df_inbox.groupby('conversation_id').cumcount() + 1\n",
    "\n",
    "# Excluding conversations from linkedin marketing solution\n",
    "filtered_df_inbox = df_inbox[~df_inbox['sender_name'].isin(['LinkedIn Marketing Solutions', 'LinkedIn Premium'])]\n",
    "\n",
    "# Select first message and date\n",
    "df_first_message = filtered_df_inbox[filtered_df_inbox['row_number'] == 1]\n",
    "df_first_message = df_first_message[df_first_message['date_week'] >= '2023-01-01']"
   ]
  },
  {
   "cell_type": "code",
   "execution_count": null,
   "metadata": {},
   "outputs": [],
   "source": [
    "# Conversation volume evolution\n",
    "\n",
    "# Aggregation by week\n",
    "df_conv_by_week = df_first_message.groupby(['date_week'], as_index=False, dropna=False).agg({'conversation_id':'nunique'})\n",
    "\n",
    "#Rename columns\n",
    "df_conv_by_week.columns = ['date_week', 'conversation_ct']\n",
    "\n",
    "# Histogram creation\n",
    "plt.figure(figsize=(10, 6)) \n",
    "plt.bar(df_conv_by_week['date_week'].dt.strftime('%Y-%m-%d'), df_conv_by_week['conversation_ct'], color='blue', width=3) \n",
    "plt.title('Volume of conversations by week')\n",
    "plt.xlabel('Week date')\n",
    "plt.ylabel('Number of conversations')\n",
    "plt.xticks(rotation=45)\n",
    "plt.grid(True)  \n",
    "plt.show() \n"
   ]
  },
  {
   "cell_type": "code",
   "execution_count": null,
   "metadata": {},
   "outputs": [],
   "source": [
    "# Rolling 12-week average\n",
    "\n",
    "# Calculating the rolling 16-week average\n",
    "df_conv_by_week['rolling_average'] = df_conv_by_week['conversation_ct'].rolling(window=12, min_periods=1).mean()\n",
    "\n",
    "# Line plot creation\n",
    "plt.figure(figsize=(14, 7))\n",
    "sns.lineplot(data=df_conv_by_week, x='date_week', y='rolling_average')\n",
    "plt.title('12-week Rolling Average conversations')\n",
    "plt.xlabel('Week')\n",
    "plt.ylabel('12-week Rolling Average')\n",
    "plt.grid(True)\n",
    "plt.show()"
   ]
  },
  {
   "cell_type": "code",
   "execution_count": null,
   "metadata": {},
   "outputs": [],
   "source": [
    "# Distribution of conversations by time of day\n",
    "\n",
    "# Aggregation by week\n",
    "df_conv_by_hour = df_first_message.groupby(['hour_paris'], as_index=False, dropna=False).agg({'conversation_id':'nunique'})\n",
    "\n",
    "#Rename columns\n",
    "df_conv_by_hour.columns = ['hour', 'conversation_ct']\n",
    "\n",
    "# Sort values\n",
    "df_conv_by_hour = df_conv_by_hour.sort_values(by=['hour'])\n",
    "\n",
    "# Histogram creation\n",
    "plt.figure(figsize=(10, 6)) \n",
    "plt.bar(df_conv_by_hour['hour'], df_conv_by_hour['conversation_ct'], color='blue', width=3)  \n",
    "plt.gca().xaxis.set_major_locator(MultipleLocator(1)) \n",
    "plt.title('Volume of conversations by hour')\n",
    "plt.xlabel('Hour')\n",
    "plt.ylabel('Number of conversations')\n",
    "plt.grid(True)  \n",
    "plt.show() \n",
    "\n"
   ]
  },
  {
   "cell_type": "code",
   "execution_count": null,
   "metadata": {},
   "outputs": [],
   "source": [
    "# Distribution of conversations by weekday\n",
    "\n",
    "# Aggregation by week\n",
    "df_conv_by_weekday = df_first_message.groupby(['day_of_week'], as_index=False, dropna=False).agg({'conversation_id':'nunique'})\n",
    "\n",
    "#Rename columns\n",
    "df_conv_by_weekday.columns = ['day_of_week', 'conversation_ct']\n",
    "\n",
    "# Define the correct order of the days of the week\n",
    "days_order = ['Monday', 'Tuesday', 'Wednesday', 'Thursday', 'Friday', 'Saturday', 'Sunday']\n",
    "\n",
    "# Rearrange DataFrame according to day order\n",
    "df_conv_by_weekday['day_of_week'] = pd.Categorical(df_conv_by_weekday['day_of_week'], categories=days_order, ordered=True)\n",
    "df_conv_by_weekday = df_conv_by_weekday.sort_values('day_of_week')\n",
    "\n",
    "# Pie chart creation\n",
    "plt.figure(figsize=(8, 8))  # Définit la taille de la figure\n",
    "plt.pie(df_conv_by_weekday['conversation_ct'], labels=df_conv_by_weekday['day_of_week'], autopct='%1.1f%%', startangle=90)\n",
    "plt.title('Distribution of conversations by weekday')\n",
    "plt.show()"
   ]
  },
  {
   "cell_type": "markdown",
   "metadata": {},
   "source": [
    "#### Invitations"
   ]
  },
  {
   "cell_type": "code",
   "execution_count": null,
   "metadata": {},
   "outputs": [],
   "source": [
    "# Week/month invitation date\n",
    "df_invitations['date_week'] = df_invitations['sent_at'].dt.to_period('W').apply(lambda x: x.start_time)\n",
    "df_invitations['date_month'] = df_invitations['sent_at'].dt.to_period('M').apply(lambda x: x.start_time)\n",
    "\n",
    "# Column day of week\n",
    "df_invitations['day_of_week'] = df_invitations['sent_at'].dt.day_name()"
   ]
  },
  {
   "cell_type": "code",
   "execution_count": null,
   "metadata": {},
   "outputs": [],
   "source": [
    "# Invitation volume evolution by direction\n",
    "\n",
    "# Aggregation by week\n",
    "df_inv_by_week_direction = df_invitations.groupby(['date_week', 'direction'], as_index=False, dropna=False).agg({'inviter':'count'})\n",
    "\n",
    "# Pivot table\n",
    "transformed_df = df_inv_by_week_direction.pivot_table(\n",
    "    values='inviter',\n",
    "    index='date_week',\n",
    "    columns='direction',\n",
    "    aggfunc='sum',\n",
    "    fill_value=0  # Remplir avec 0 là où il n'y a pas de données\n",
    ").reset_index()\n",
    "\n",
    "# Renname columns\n",
    "transformed_df.columns = ['date_week', 'incoming_ct', 'outgoing_ct']\n",
    "\n",
    "# Histogram creation\n",
    "plt.figure(figsize=(10, 6))\n",
    "plt.bar(transformed_df['date_week'].dt.strftime('%Y-%m-%d'), transformed_df['outgoing_ct'], label='Invitations Sent', color='b')\n",
    "plt.bar(transformed_df['date_week'].dt.strftime('%Y-%m-%d'), transformed_df['incoming_ct'], bottom=transformed_df['outgoing_ct'], label='Invitations Received', color='r')\n",
    "\n",
    "plt.xlabel('Week', fontweight='bold', fontsize=12)\n",
    "plt.ylabel('Number of Invitations', fontweight='bold', fontsize=12)\n",
    "plt.title('Volume of Invitations Sent and Received per Week')\n",
    "plt.xticks(rotation=45)\n",
    "\n",
    "plt.legend()\n",
    "\n",
    "plt.show()\n"
   ]
  },
  {
   "cell_type": "code",
   "execution_count": null,
   "metadata": {},
   "outputs": [],
   "source": [
    "# Rolling 12-week average\n",
    "\n",
    "# Aggregation by week\n",
    "df_inv_by_week = df_invitations.groupby(['date_week'], as_index=False, dropna=False).agg({'inviter':'count'})\n",
    "\n",
    "# Calculating the rolling 16-week average\n",
    "df_inv_by_week['rolling_average'] = df_inv_by_week['invitation_ct'].rolling(window=12, min_periods=1).mean()\n",
    "\n",
    "# Line plot creation\n",
    "plt.figure(figsize=(14, 7))\n",
    "sns.lineplot(data=df_inv_by_week, x='date_week', y='rolling_average')\n",
    "plt.title('12-week Rolling Average invitation')\n",
    "plt.xlabel('Week')\n",
    "plt.ylabel('12-week Rolling Average')\n",
    "plt.grid(True)\n",
    "plt.show()"
   ]
  },
  {
   "cell_type": "code",
   "execution_count": null,
   "metadata": {},
   "outputs": [],
   "source": [
    "# Distribution of invitations by time of day\n",
    "\n",
    "# Aggregation by week\n",
    "df_inv_by_hour = df_invitations.groupby(['sent_at_hour'], as_index=False, dropna=False).agg({'inviter':'count'})\n",
    "\n",
    "#Rename columns\n",
    "df_inv_by_hour.columns = ['hour', 'invitation_ct']\n",
    "\n",
    "# Sort values\n",
    "df_inv_by_hour = df_inv_by_hour.sort_values(by=['hour'])\n",
    "\n",
    "# Histogram creation\n",
    "plt.figure(figsize=(10, 6)) \n",
    "plt.bar(df_inv_by_hour['hour'], df_inv_by_hour['invitation_ct'], color='blue', width=3)  \n",
    "plt.gca().xaxis.set_major_locator(MultipleLocator(1)) \n",
    "plt.title('Volume of invitations by hour')\n",
    "plt.xlabel('Hour')\n",
    "plt.ylabel('Number of invitations')\n",
    "plt.grid(True)  \n",
    "plt.show() \n",
    "\n"
   ]
  },
  {
   "cell_type": "code",
   "execution_count": null,
   "metadata": {},
   "outputs": [],
   "source": [
    "# Distribution of invitations by weekday\n",
    "\n",
    "# Aggregation by week\n",
    "df_inv_by_weekday = df_invitations.groupby(['day_of_week'], as_index=False, dropna=False).agg({'inviter':'count'})\n",
    "\n",
    "#Rename columns\n",
    "df_inv_by_weekday.columns = ['day_of_week', 'invitation_ct']\n",
    "\n",
    "# Define the correct order of the days of the week\n",
    "days_order = ['Monday', 'Tuesday', 'Wednesday', 'Thursday', 'Friday', 'Saturday', 'Sunday']\n",
    "\n",
    "# Rearrange DataFrame according to day order\n",
    "df_inv_by_weekday['day_of_week'] = pd.Categorical(df_inv_by_weekday['day_of_week'], categories=days_order, ordered=True)\n",
    "df_inv_by_weekday = df_inv_by_weekday.sort_values('day_of_week')\n",
    "\n",
    "# Pie chart creation\n",
    "plt.figure(figsize=(8, 8))  # Définit la taille de la figure\n",
    "plt.pie(df_inv_by_weekday['invitation_ct'], labels=df_inv_by_weekday['day_of_week'], autopct='%1.1f%%', startangle=90)\n",
    "plt.title('Distribution of invitation by weekday')\n",
    "plt.show()"
   ]
  },
  {
   "cell_type": "markdown",
   "metadata": {},
   "source": [
    "#### All likes"
   ]
  },
  {
   "cell_type": "code",
   "execution_count": null,
   "metadata": {},
   "outputs": [],
   "source": [
    "# Likes week date\n",
    "df_all_likes['date'] = pd.to_datetime(df_all_likes['date'])\n",
    "df_all_likes['date_week'] = df_all_likes['date'].dt.to_period('W').apply(lambda x: x.start_time)"
   ]
  },
  {
   "cell_type": "code",
   "execution_count": null,
   "metadata": {},
   "outputs": [],
   "source": [
    "# Likes volume evolution\n",
    "\n",
    "# Aggregation by week\n",
    "df_likes_by_week = df_all_likes.groupby(['date_week'], as_index=False, dropna=False).agg({'link':'count'})\n",
    "df_likes_by_week = df_likes_by_week[df_likes_by_week['date_week'] >= '2023-01-01']\n",
    "\n",
    "#Rename columns\n",
    "df_likes_by_week.columns = ['date_week', 'like_ct']\n",
    "\n",
    "# Histogram creation\n",
    "plt.figure(figsize=(10, 6)) \n",
    "plt.bar(df_likes_by_week['date_week'].dt.strftime('%Y-%m-%d'), df_likes_by_week['like_ct'], color='blue', width=3) \n",
    "plt.title('Volume of likes by week')\n",
    "plt.xlabel('Week date')\n",
    "plt.ylabel('Number of likes')\n",
    "plt.xticks(rotation=45)\n",
    "plt.grid(True)  \n",
    "plt.show() \n"
   ]
  }
 ],
 "metadata": {
  "kernelspec": {
   "display_name": "Python 3",
   "language": "python",
   "name": "python3"
  },
  "language_info": {
   "codemirror_mode": {
    "name": "ipython",
    "version": 3
   },
   "file_extension": ".py",
   "mimetype": "text/x-python",
   "name": "python",
   "nbconvert_exporter": "python",
   "pygments_lexer": "ipython3",
   "version": "3.9.6"
  }
 },
 "nbformat": 4,
 "nbformat_minor": 2
}
